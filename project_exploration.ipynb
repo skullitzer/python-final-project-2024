{
 "cells": [
  {
   "cell_type": "code",
   "execution_count": null,
   "id": "c722a165-0d09-41f7-a582-79fc23b85698",
   "metadata": {},
   "outputs": [],
   "source": [
    "# This is my project's scrap pad"
   ]
  }
 ],
 "metadata": {
  "kernelspec": {
   "display_name": "Python 3 (ipykernel)",
   "language": "python",
   "name": "python3"
  },
  "language_info": {
   "codemirror_mode": {
    "name": "ipython",
    "version": 3
   },
   "file_extension": ".py",
   "mimetype": "text/x-python",
   "name": "python",
   "nbconvert_exporter": "python",
   "pygments_lexer": "ipython3",
   "version": "3.12.4"
  }
 },
 "nbformat": 4,
 "nbformat_minor": 5
}
